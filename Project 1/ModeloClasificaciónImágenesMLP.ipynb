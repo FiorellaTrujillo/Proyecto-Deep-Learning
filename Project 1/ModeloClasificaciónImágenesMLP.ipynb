{
  "cells": [
    {
      "cell_type": "markdown",
      "source": [
        "# **DEEP LEARNING**\n",
        "\n",
        "**UNIVERSIDAD MILITAR NUEVA GRANADA**\n",
        "\n",
        "**MODELO DE CLASIFICACIÓN DE IMÁGENES CON MLP**\n",
        "\n",
        "Facultad de Ingeniería\n",
        "\n",
        "Presentado por: José Torres 1401499 - Fiorella Trujillo 1401519"
      ],
      "metadata": {
        "id": "lfZhFg5eMRqY"
      }
    },
    {
      "cell_type": "code",
      "execution_count": 1,
      "metadata": {
        "colab": {
          "base_uri": "https://localhost:8080/"
        },
        "id": "xLvkeYkYXR4q",
        "outputId": "3436f337-67f5-4bb1-d5c4-76d36512d899"
      },
      "outputs": [
        {
          "output_type": "stream",
          "name": "stdout",
          "text": [
            "Collecting medmnist\n",
            "  Downloading medmnist-3.0.2-py3-none-any.whl.metadata (14 kB)\n",
            "Requirement already satisfied: torch in /usr/local/lib/python3.12/dist-packages (2.8.0+cu126)\n",
            "Requirement already satisfied: torchvision in /usr/local/lib/python3.12/dist-packages (0.23.0+cu126)\n",
            "Collecting optuna\n",
            "  Downloading optuna-4.5.0-py3-none-any.whl.metadata (17 kB)\n",
            "Requirement already satisfied: numpy in /usr/local/lib/python3.12/dist-packages (from medmnist) (2.0.2)\n",
            "Requirement already satisfied: pandas in /usr/local/lib/python3.12/dist-packages (from medmnist) (2.2.2)\n",
            "Requirement already satisfied: scikit-learn in /usr/local/lib/python3.12/dist-packages (from medmnist) (1.6.1)\n",
            "Requirement already satisfied: scikit-image in /usr/local/lib/python3.12/dist-packages (from medmnist) (0.25.2)\n",
            "Requirement already satisfied: tqdm in /usr/local/lib/python3.12/dist-packages (from medmnist) (4.67.1)\n",
            "Requirement already satisfied: Pillow in /usr/local/lib/python3.12/dist-packages (from medmnist) (11.3.0)\n",
            "Collecting fire (from medmnist)\n",
            "  Downloading fire-0.7.1-py3-none-any.whl.metadata (5.8 kB)\n",
            "Requirement already satisfied: filelock in /usr/local/lib/python3.12/dist-packages (from torch) (3.19.1)\n",
            "Requirement already satisfied: typing-extensions>=4.10.0 in /usr/local/lib/python3.12/dist-packages (from torch) (4.14.1)\n",
            "Requirement already satisfied: setuptools in /usr/local/lib/python3.12/dist-packages (from torch) (75.2.0)\n",
            "Requirement already satisfied: sympy>=1.13.3 in /usr/local/lib/python3.12/dist-packages (from torch) (1.13.3)\n",
            "Requirement already satisfied: networkx in /usr/local/lib/python3.12/dist-packages (from torch) (3.5)\n",
            "Requirement already satisfied: jinja2 in /usr/local/lib/python3.12/dist-packages (from torch) (3.1.6)\n",
            "Requirement already satisfied: fsspec in /usr/local/lib/python3.12/dist-packages (from torch) (2025.3.0)\n",
            "Requirement already satisfied: nvidia-cuda-nvrtc-cu12==12.6.77 in /usr/local/lib/python3.12/dist-packages (from torch) (12.6.77)\n",
            "Requirement already satisfied: nvidia-cuda-runtime-cu12==12.6.77 in /usr/local/lib/python3.12/dist-packages (from torch) (12.6.77)\n",
            "Requirement already satisfied: nvidia-cuda-cupti-cu12==12.6.80 in /usr/local/lib/python3.12/dist-packages (from torch) (12.6.80)\n",
            "Requirement already satisfied: nvidia-cudnn-cu12==9.10.2.21 in /usr/local/lib/python3.12/dist-packages (from torch) (9.10.2.21)\n",
            "Requirement already satisfied: nvidia-cublas-cu12==12.6.4.1 in /usr/local/lib/python3.12/dist-packages (from torch) (12.6.4.1)\n",
            "Requirement already satisfied: nvidia-cufft-cu12==11.3.0.4 in /usr/local/lib/python3.12/dist-packages (from torch) (11.3.0.4)\n",
            "Requirement already satisfied: nvidia-curand-cu12==10.3.7.77 in /usr/local/lib/python3.12/dist-packages (from torch) (10.3.7.77)\n",
            "Requirement already satisfied: nvidia-cusolver-cu12==11.7.1.2 in /usr/local/lib/python3.12/dist-packages (from torch) (11.7.1.2)\n",
            "Requirement already satisfied: nvidia-cusparse-cu12==12.5.4.2 in /usr/local/lib/python3.12/dist-packages (from torch) (12.5.4.2)\n",
            "Requirement already satisfied: nvidia-cusparselt-cu12==0.7.1 in /usr/local/lib/python3.12/dist-packages (from torch) (0.7.1)\n",
            "Requirement already satisfied: nvidia-nccl-cu12==2.27.3 in /usr/local/lib/python3.12/dist-packages (from torch) (2.27.3)\n",
            "Requirement already satisfied: nvidia-nvtx-cu12==12.6.77 in /usr/local/lib/python3.12/dist-packages (from torch) (12.6.77)\n",
            "Requirement already satisfied: nvidia-nvjitlink-cu12==12.6.85 in /usr/local/lib/python3.12/dist-packages (from torch) (12.6.85)\n",
            "Requirement already satisfied: nvidia-cufile-cu12==1.11.1.6 in /usr/local/lib/python3.12/dist-packages (from torch) (1.11.1.6)\n",
            "Requirement already satisfied: triton==3.4.0 in /usr/local/lib/python3.12/dist-packages (from torch) (3.4.0)\n",
            "Collecting alembic>=1.5.0 (from optuna)\n",
            "  Downloading alembic-1.16.4-py3-none-any.whl.metadata (7.3 kB)\n",
            "Collecting colorlog (from optuna)\n",
            "  Downloading colorlog-6.9.0-py3-none-any.whl.metadata (10 kB)\n",
            "Requirement already satisfied: packaging>=20.0 in /usr/local/lib/python3.12/dist-packages (from optuna) (25.0)\n",
            "Requirement already satisfied: sqlalchemy>=1.4.2 in /usr/local/lib/python3.12/dist-packages (from optuna) (2.0.43)\n",
            "Requirement already satisfied: PyYAML in /usr/local/lib/python3.12/dist-packages (from optuna) (6.0.2)\n",
            "Requirement already satisfied: Mako in /usr/lib/python3/dist-packages (from alembic>=1.5.0->optuna) (1.1.3)\n",
            "Requirement already satisfied: greenlet>=1 in /usr/local/lib/python3.12/dist-packages (from sqlalchemy>=1.4.2->optuna) (3.2.4)\n",
            "Requirement already satisfied: mpmath<1.4,>=1.1.0 in /usr/local/lib/python3.12/dist-packages (from sympy>=1.13.3->torch) (1.3.0)\n",
            "Requirement already satisfied: termcolor in /usr/local/lib/python3.12/dist-packages (from fire->medmnist) (3.1.0)\n",
            "Requirement already satisfied: MarkupSafe>=2.0 in /usr/local/lib/python3.12/dist-packages (from jinja2->torch) (3.0.2)\n",
            "Requirement already satisfied: python-dateutil>=2.8.2 in /usr/local/lib/python3.12/dist-packages (from pandas->medmnist) (2.9.0.post0)\n",
            "Requirement already satisfied: pytz>=2020.1 in /usr/local/lib/python3.12/dist-packages (from pandas->medmnist) (2025.2)\n",
            "Requirement already satisfied: tzdata>=2022.7 in /usr/local/lib/python3.12/dist-packages (from pandas->medmnist) (2025.2)\n",
            "Requirement already satisfied: scipy>=1.11.4 in /usr/local/lib/python3.12/dist-packages (from scikit-image->medmnist) (1.16.1)\n",
            "Requirement already satisfied: imageio!=2.35.0,>=2.33 in /usr/local/lib/python3.12/dist-packages (from scikit-image->medmnist) (2.37.0)\n",
            "Requirement already satisfied: tifffile>=2022.8.12 in /usr/local/lib/python3.12/dist-packages (from scikit-image->medmnist) (2025.6.11)\n",
            "Requirement already satisfied: lazy-loader>=0.4 in /usr/local/lib/python3.12/dist-packages (from scikit-image->medmnist) (0.4)\n",
            "Requirement already satisfied: joblib>=1.2.0 in /usr/local/lib/python3.12/dist-packages (from scikit-learn->medmnist) (1.5.1)\n",
            "Requirement already satisfied: threadpoolctl>=3.1.0 in /usr/local/lib/python3.12/dist-packages (from scikit-learn->medmnist) (3.6.0)\n",
            "Requirement already satisfied: six>=1.5 in /usr/local/lib/python3.12/dist-packages (from python-dateutil>=2.8.2->pandas->medmnist) (1.17.0)\n",
            "Downloading medmnist-3.0.2-py3-none-any.whl (25 kB)\n",
            "Downloading optuna-4.5.0-py3-none-any.whl (400 kB)\n",
            "\u001b[2K   \u001b[90m━━━━━━━━━━━━━━━━━━━━━━━━━━━━━━━━━━━━━━━━\u001b[0m \u001b[32m400.9/400.9 kB\u001b[0m \u001b[31m2.3 MB/s\u001b[0m eta \u001b[36m0:00:00\u001b[0m\n",
            "\u001b[?25hDownloading alembic-1.16.4-py3-none-any.whl (247 kB)\n",
            "\u001b[2K   \u001b[90m━━━━━━━━━━━━━━━━━━━━━━━━━━━━━━━━━━━━━━━━\u001b[0m \u001b[32m247.0/247.0 kB\u001b[0m \u001b[31m14.4 MB/s\u001b[0m eta \u001b[36m0:00:00\u001b[0m\n",
            "\u001b[?25hDownloading colorlog-6.9.0-py3-none-any.whl (11 kB)\n",
            "Downloading fire-0.7.1-py3-none-any.whl (115 kB)\n",
            "\u001b[2K   \u001b[90m━━━━━━━━━━━━━━━━━━━━━━━━━━━━━━━━━━━━━━━━\u001b[0m \u001b[32m115.9/115.9 kB\u001b[0m \u001b[31m8.7 MB/s\u001b[0m eta \u001b[36m0:00:00\u001b[0m\n",
            "\u001b[?25hInstalling collected packages: fire, colorlog, alembic, optuna, medmnist\n",
            "Successfully installed alembic-1.16.4 colorlog-6.9.0 fire-0.7.1 medmnist-3.0.2 optuna-4.5.0\n",
            "Dataset: pathmnist, Tarea: multi-class, Nº clases: 9, Canales: 3\n"
          ]
        },
        {
          "output_type": "stream",
          "name": "stderr",
          "text": [
            "100%|██████████| 206M/206M [00:15<00:00, 13.6MB/s]\n"
          ]
        }
      ],
      "source": [
        "# ======================================\n",
        "# 1. Instalación y carga del dataset\n",
        "# ======================================\n",
        "!pip install medmnist torch torchvision optuna\n",
        "\n",
        "import medmnist\n",
        "from medmnist import INFO\n",
        "from torchvision import transforms\n",
        "from torch.utils.data import DataLoader, Subset\n",
        "import torch\n",
        "import torch.nn as nn\n",
        "import torch.nn.functional as F\n",
        "import torch.optim as optim\n",
        "import matplotlib.pyplot as plt\n",
        "import optuna\n",
        "import numpy as np\n",
        "\n",
        "# Dataset PathMNIST → 9 clases, RGB\n",
        "data_flag = 'pathmnist'\n",
        "download = True\n",
        "\n",
        "info = INFO[data_flag]\n",
        "task = info['task']\n",
        "n_classes = len(info['label'])\n",
        "num_channels = info['n_channels']   # RGB = 3 canales\n",
        "\n",
        "print(f\"Dataset: {data_flag}, Tarea: {task}, Nº clases: {n_classes}, Canales: {num_channels}\")\n",
        "\n",
        "# Transformaciones\n",
        "if num_channels == 3:\n",
        "    transform = transforms.Compose([\n",
        "        transforms.ToTensor(),\n",
        "        transforms.Normalize(mean=[.5,.5,.5], std=[.5,.5,.5])\n",
        "    ])\n",
        "else:\n",
        "    transform = transforms.Compose([\n",
        "        transforms.ToTensor(),\n",
        "        transforms.Normalize(mean=[.5], std=[.5])\n",
        "    ])\n",
        "\n",
        "# Cargar datasets\n",
        "DataClass = getattr(medmnist, info['python_class'])\n",
        "train_dataset = DataClass(split='train', transform=transform, download=download)\n",
        "val_dataset   = DataClass(split='val', transform=transform, download=download)\n",
        "test_dataset  = DataClass(split='test', transform=transform, download=download)"
      ]
    },
    {
      "cell_type": "markdown",
      "source": [
        "**Paso 1: Modelo implementado**"
      ],
      "metadata": {
        "id": "_VSoRTjeMnmh"
      }
    },
    {
      "cell_type": "code",
      "execution_count": 2,
      "metadata": {
        "id": "5SKhgocON0UJ"
      },
      "outputs": [],
      "source": [
        "# ======================================\n",
        "# 2. Modelo MLP\n",
        "# ======================================\n",
        "class SimpleMLP(nn.Module):\n",
        "    def __init__(self, num_channels=3, num_classes=9, hidden_dim=256):\n",
        "        super(SimpleMLP, self).__init__()\n",
        "        input_dim = num_channels * 28 * 28\n",
        "        self.fc1 = nn.Linear(input_dim, hidden_dim)\n",
        "        self.fc2 = nn.Linear(hidden_dim, num_classes)\n",
        "\n",
        "    def forward(self, x):\n",
        "        x = x.view(x.size(0), -1)\n",
        "        x = F.relu(self.fc1(x))\n",
        "        x = self.fc2(x)\n",
        "        return x"
      ]
    },
    {
      "cell_type": "code",
      "execution_count": 3,
      "metadata": {
        "id": "cUZd9YvVXWcK"
      },
      "outputs": [],
      "source": [
        "# ======================================\n",
        "# 3. Función de entrenamiento y validación\n",
        "# ======================================\n",
        "def train_model(model, optimizer, criterion, train_loader, val_loader, epochs=20):\n",
        "    train_acc_list, val_acc_list, train_loss_list, val_loss_list = [], [], [], []\n",
        "\n",
        "    for epoch in range(epochs):\n",
        "        # ---- Entrenamiento ----\n",
        "        model.train()\n",
        "        total, correct, running_loss = 0, 0, 0\n",
        "        for images, labels in train_loader:\n",
        "            labels = labels.squeeze().long()\n",
        "            optimizer.zero_grad()\n",
        "            outputs = model(images)\n",
        "            loss = criterion(outputs, labels)\n",
        "            loss.backward()\n",
        "            optimizer.step()\n",
        "\n",
        "            running_loss += loss.item()\n",
        "            _, predicted = torch.max(outputs, 1)\n",
        "            total += labels.size(0)\n",
        "            correct += (predicted == labels).sum().item()\n",
        "\n",
        "        train_acc = correct/total\n",
        "        train_loss = running_loss/len(train_loader)\n",
        "\n",
        "        # ---- Validación ----\n",
        "        model.eval()\n",
        "        total, correct, val_loss = 0, 0, 0\n",
        "        with torch.no_grad():\n",
        "            for images, labels in val_loader:\n",
        "                labels = labels.squeeze().long()\n",
        "                outputs = model(images)\n",
        "                loss = criterion(outputs, labels)\n",
        "                val_loss += loss.item()\n",
        "                _, predicted = torch.max(outputs, 1)\n",
        "                total += labels.size(0)\n",
        "                correct += (predicted == labels).sum().item()\n",
        "        val_acc = correct/total\n",
        "        val_loss /= len(val_loader)\n",
        "\n",
        "        # Guardar métricas\n",
        "        train_acc_list.append(train_acc)\n",
        "        val_acc_list.append(val_acc)\n",
        "        train_loss_list.append(train_loss)\n",
        "        val_loss_list.append(val_loss)\n",
        "\n",
        "        #Imprimir en formato pedido\n",
        "        print(f\"Epoch {epoch+1}/{epochs} | \"\n",
        "              f\"Train Acc: {train_acc:.3f}, Val Acc: {val_acc:.3f}, \"\n",
        "              f\"Train Loss: {train_loss:.3f}, Val Loss: {val_loss:.3f}\")\n",
        "\n",
        "    return train_acc_list, val_acc_list, train_loss_list, val_loss_list, val_acc_list[-1]"
      ]
    },
    {
      "cell_type": "markdown",
      "source": [
        "**Paso 2: Selección y ajuste de modelo**"
      ],
      "metadata": {
        "id": "lq-QHVk4Mjcl"
      }
    },
    {
      "cell_type": "code",
      "execution_count": 4,
      "metadata": {
        "id": "Y_a1at0IN4Hx"
      },
      "outputs": [],
      "source": [
        "# ======================================\n",
        "# 4. Objetivo de Optuna\n",
        "# ======================================\n",
        "def objective(trial):\n",
        "    hidden_dim = trial.suggest_int(\"hidden_dim\", 64, 512, step=64)\n",
        "    lr = trial.suggest_loguniform(\"lr\", 1e-4, 1e-2)\n",
        "    batch_size = trial.suggest_categorical(\"batch_size\", [64, 128, 256])\n",
        "\n",
        "    # Nuevos dataloaders con batch_size sugerido\n",
        "    train_loader = DataLoader(train_dataset, batch_size=batch_size, shuffle=True)\n",
        "    val_loader   = DataLoader(val_dataset, batch_size=batch_size, shuffle=False)\n",
        "\n",
        "    model = SimpleMLP(num_channels=num_channels, num_classes=n_classes, hidden_dim=hidden_dim)\n",
        "    criterion = nn.CrossEntropyLoss()\n",
        "    optimizer = optim.Adam(model.parameters(), lr=lr)\n",
        "\n",
        "    print(f\"Trial {trial.number}: hidden_dim={hidden_dim}, lr={lr:.5f}, batch_size={batch_size}\")\n",
        "    _, _, _, _, val_acc = train_model(model, optimizer, criterion, train_loader, val_loader, epochs=10) #Epocas cada Intento\n",
        "\n",
        "    return val_acc  # optimizamos validación"
      ]
    },
    {
      "cell_type": "code",
      "execution_count": 5,
      "metadata": {
        "colab": {
          "base_uri": "https://localhost:8080/"
        },
        "id": "O8JVuAXPN4kF",
        "outputId": "a2931d26-a14a-4d0c-9888-0f9b597f4aa0"
      },
      "outputs": [
        {
          "output_type": "stream",
          "name": "stderr",
          "text": [
            "[I 2025-08-26 00:41:01,212] A new study created in memory with name: no-name-b27acc8f-5b9d-4569-bb01-3394d44ea48f\n",
            "/tmp/ipython-input-2468375839.py:6: FutureWarning: suggest_loguniform has been deprecated in v3.0.0. This feature will be removed in v6.0.0. See https://github.com/optuna/optuna/releases/tag/v3.0.0. Use suggest_float(..., log=True) instead.\n",
            "  lr = trial.suggest_loguniform(\"lr\", 1e-4, 1e-2)\n"
          ]
        },
        {
          "output_type": "stream",
          "name": "stdout",
          "text": [
            "Trial 0: hidden_dim=512, lr=0.00201, batch_size=256\n",
            "Epoch 1/10 | Train Acc: 0.455, Val Acc: 0.526, Train Loss: 1.463, Val Loss: 1.280\n",
            "Epoch 2/10 | Train Acc: 0.543, Val Acc: 0.554, Train Loss: 1.236, Val Loss: 1.235\n",
            "Epoch 3/10 | Train Acc: 0.561, Val Acc: 0.536, Train Loss: 1.183, Val Loss: 1.237\n",
            "Epoch 4/10 | Train Acc: 0.574, Val Acc: 0.557, Train Loss: 1.146, Val Loss: 1.197\n",
            "Epoch 5/10 | Train Acc: 0.587, Val Acc: 0.574, Train Loss: 1.114, Val Loss: 1.151\n",
            "Epoch 6/10 | Train Acc: 0.600, Val Acc: 0.568, Train Loss: 1.076, Val Loss: 1.146\n",
            "Epoch 7/10 | Train Acc: 0.615, Val Acc: 0.599, Train Loss: 1.037, Val Loss: 1.090\n",
            "Epoch 8/10 | Train Acc: 0.625, Val Acc: 0.596, Train Loss: 1.010, Val Loss: 1.113\n",
            "Epoch 9/10 | Train Acc: 0.635, Val Acc: 0.607, Train Loss: 0.980, Val Loss: 1.082\n"
          ]
        },
        {
          "output_type": "stream",
          "name": "stderr",
          "text": [
            "[I 2025-08-26 00:45:25,438] Trial 0 finished with value: 0.6110555777688924 and parameters: {'hidden_dim': 512, 'lr': 0.00200996709061464, 'batch_size': 256}. Best is trial 0 with value: 0.6110555777688924.\n"
          ]
        },
        {
          "output_type": "stream",
          "name": "stdout",
          "text": [
            "Epoch 10/10 | Train Acc: 0.644, Val Acc: 0.611, Train Loss: 0.957, Val Loss: 1.078\n",
            "Trial 1: hidden_dim=256, lr=0.00036, batch_size=128\n",
            "Epoch 1/10 | Train Acc: 0.444, Val Acc: 0.509, Train Loss: 1.488, Val Loss: 1.320\n",
            "Epoch 2/10 | Train Acc: 0.539, Val Acc: 0.546, Train Loss: 1.254, Val Loss: 1.260\n",
            "Epoch 3/10 | Train Acc: 0.562, Val Acc: 0.565, Train Loss: 1.193, Val Loss: 1.193\n",
            "Epoch 4/10 | Train Acc: 0.575, Val Acc: 0.578, Train Loss: 1.151, Val Loss: 1.171\n",
            "Epoch 5/10 | Train Acc: 0.587, Val Acc: 0.561, Train Loss: 1.116, Val Loss: 1.182\n",
            "Epoch 6/10 | Train Acc: 0.599, Val Acc: 0.577, Train Loss: 1.085, Val Loss: 1.144\n",
            "Epoch 7/10 | Train Acc: 0.612, Val Acc: 0.589, Train Loss: 1.053, Val Loss: 1.116\n",
            "Epoch 8/10 | Train Acc: 0.622, Val Acc: 0.595, Train Loss: 1.022, Val Loss: 1.108\n",
            "Epoch 9/10 | Train Acc: 0.633, Val Acc: 0.587, Train Loss: 0.991, Val Loss: 1.119\n"
          ]
        },
        {
          "output_type": "stream",
          "name": "stderr",
          "text": [
            "[I 2025-08-26 00:49:14,998] Trial 1 finished with value: 0.6076569372251099 and parameters: {'hidden_dim': 256, 'lr': 0.0003612676875509551, 'batch_size': 128}. Best is trial 0 with value: 0.6110555777688924.\n"
          ]
        },
        {
          "output_type": "stream",
          "name": "stdout",
          "text": [
            "Epoch 10/10 | Train Acc: 0.645, Val Acc: 0.608, Train Loss: 0.964, Val Loss: 1.060\n",
            "Trial 2: hidden_dim=64, lr=0.00583, batch_size=128\n",
            "Epoch 1/10 | Train Acc: 0.440, Val Acc: 0.475, Train Loss: 1.487, Val Loss: 1.389\n",
            "Epoch 2/10 | Train Acc: 0.509, Val Acc: 0.501, Train Loss: 1.323, Val Loss: 1.349\n",
            "Epoch 3/10 | Train Acc: 0.526, Val Acc: 0.472, Train Loss: 1.269, Val Loss: 1.447\n",
            "Epoch 4/10 | Train Acc: 0.538, Val Acc: 0.527, Train Loss: 1.239, Val Loss: 1.255\n",
            "Epoch 5/10 | Train Acc: 0.554, Val Acc: 0.540, Train Loss: 1.202, Val Loss: 1.244\n",
            "Epoch 6/10 | Train Acc: 0.560, Val Acc: 0.528, Train Loss: 1.180, Val Loss: 1.299\n",
            "Epoch 7/10 | Train Acc: 0.562, Val Acc: 0.525, Train Loss: 1.170, Val Loss: 1.298\n",
            "Epoch 8/10 | Train Acc: 0.567, Val Acc: 0.545, Train Loss: 1.150, Val Loss: 1.227\n",
            "Epoch 9/10 | Train Acc: 0.574, Val Acc: 0.549, Train Loss: 1.131, Val Loss: 1.164\n"
          ]
        },
        {
          "output_type": "stream",
          "name": "stderr",
          "text": [
            "[I 2025-08-26 00:52:30,746] Trial 2 finished with value: 0.5781687325069972 and parameters: {'hidden_dim': 64, 'lr': 0.005827413412137103, 'batch_size': 128}. Best is trial 0 with value: 0.6110555777688924.\n"
          ]
        },
        {
          "output_type": "stream",
          "name": "stdout",
          "text": [
            "Epoch 10/10 | Train Acc: 0.581, Val Acc: 0.578, Train Loss: 1.114, Val Loss: 1.131\n",
            "Trial 3: hidden_dim=192, lr=0.00013, batch_size=256\n",
            "Epoch 1/10 | Train Acc: 0.376, Val Acc: 0.434, Train Loss: 1.650, Val Loss: 1.566\n",
            "Epoch 2/10 | Train Acc: 0.465, Val Acc: 0.475, Train Loss: 1.494, Val Loss: 1.452\n",
            "Epoch 3/10 | Train Acc: 0.503, Val Acc: 0.501, Train Loss: 1.381, Val Loss: 1.356\n",
            "Epoch 4/10 | Train Acc: 0.524, Val Acc: 0.527, Train Loss: 1.304, Val Loss: 1.310\n",
            "Epoch 5/10 | Train Acc: 0.540, Val Acc: 0.535, Train Loss: 1.256, Val Loss: 1.265\n",
            "Epoch 6/10 | Train Acc: 0.556, Val Acc: 0.554, Train Loss: 1.221, Val Loss: 1.239\n",
            "Epoch 7/10 | Train Acc: 0.566, Val Acc: 0.556, Train Loss: 1.197, Val Loss: 1.223\n",
            "Epoch 8/10 | Train Acc: 0.574, Val Acc: 0.551, Train Loss: 1.175, Val Loss: 1.210\n",
            "Epoch 9/10 | Train Acc: 0.580, Val Acc: 0.569, Train Loss: 1.156, Val Loss: 1.189\n"
          ]
        },
        {
          "output_type": "stream",
          "name": "stderr",
          "text": [
            "[I 2025-08-26 00:56:00,551] Trial 3 finished with value: 0.5768692522990804 and parameters: {'hidden_dim': 192, 'lr': 0.0001252531121173757, 'batch_size': 256}. Best is trial 0 with value: 0.6110555777688924.\n"
          ]
        },
        {
          "output_type": "stream",
          "name": "stdout",
          "text": [
            "Epoch 10/10 | Train Acc: 0.586, Val Acc: 0.577, Train Loss: 1.140, Val Loss: 1.179\n",
            "Trial 4: hidden_dim=448, lr=0.00412, batch_size=256\n",
            "Epoch 1/10 | Train Acc: 0.436, Val Acc: 0.504, Train Loss: 1.566, Val Loss: 1.342\n",
            "Epoch 2/10 | Train Acc: 0.530, Val Acc: 0.536, Train Loss: 1.277, Val Loss: 1.252\n",
            "Epoch 3/10 | Train Acc: 0.549, Val Acc: 0.533, Train Loss: 1.222, Val Loss: 1.265\n",
            "Epoch 4/10 | Train Acc: 0.559, Val Acc: 0.551, Train Loss: 1.186, Val Loss: 1.223\n",
            "Epoch 5/10 | Train Acc: 0.570, Val Acc: 0.522, Train Loss: 1.151, Val Loss: 1.292\n",
            "Epoch 6/10 | Train Acc: 0.579, Val Acc: 0.553, Train Loss: 1.131, Val Loss: 1.200\n",
            "Epoch 7/10 | Train Acc: 0.587, Val Acc: 0.574, Train Loss: 1.104, Val Loss: 1.160\n",
            "Epoch 8/10 | Train Acc: 0.595, Val Acc: 0.575, Train Loss: 1.079, Val Loss: 1.147\n",
            "Epoch 9/10 | Train Acc: 0.604, Val Acc: 0.581, Train Loss: 1.055, Val Loss: 1.143\n"
          ]
        },
        {
          "output_type": "stream",
          "name": "stderr",
          "text": [
            "[I 2025-08-26 01:00:16,540] Trial 4 finished with value: 0.5792682926829268 and parameters: {'hidden_dim': 448, 'lr': 0.004118475692936868, 'batch_size': 256}. Best is trial 0 with value: 0.6110555777688924.\n"
          ]
        },
        {
          "output_type": "stream",
          "name": "stdout",
          "text": [
            "Epoch 10/10 | Train Acc: 0.611, Val Acc: 0.579, Train Loss: 1.038, Val Loss: 1.118\n",
            "Trial 5: hidden_dim=448, lr=0.00466, batch_size=256\n",
            "Epoch 1/10 | Train Acc: 0.442, Val Acc: 0.511, Train Loss: 1.557, Val Loss: 1.305\n",
            "Epoch 2/10 | Train Acc: 0.533, Val Acc: 0.550, Train Loss: 1.274, Val Loss: 1.244\n",
            "Epoch 3/10 | Train Acc: 0.550, Val Acc: 0.547, Train Loss: 1.225, Val Loss: 1.235\n",
            "Epoch 4/10 | Train Acc: 0.558, Val Acc: 0.543, Train Loss: 1.192, Val Loss: 1.239\n",
            "Epoch 5/10 | Train Acc: 0.568, Val Acc: 0.565, Train Loss: 1.160, Val Loss: 1.192\n",
            "Epoch 6/10 | Train Acc: 0.574, Val Acc: 0.539, Train Loss: 1.137, Val Loss: 1.232\n",
            "Epoch 7/10 | Train Acc: 0.579, Val Acc: 0.552, Train Loss: 1.126, Val Loss: 1.180\n",
            "Epoch 8/10 | Train Acc: 0.589, Val Acc: 0.576, Train Loss: 1.099, Val Loss: 1.150\n",
            "Epoch 9/10 | Train Acc: 0.597, Val Acc: 0.574, Train Loss: 1.075, Val Loss: 1.127\n"
          ]
        },
        {
          "output_type": "stream",
          "name": "stderr",
          "text": [
            "[I 2025-08-26 01:04:41,508] Trial 5 finished with value: 0.5585765693722511 and parameters: {'hidden_dim': 448, 'lr': 0.004664149409998041, 'batch_size': 256}. Best is trial 0 with value: 0.6110555777688924.\n"
          ]
        },
        {
          "output_type": "stream",
          "name": "stdout",
          "text": [
            "Epoch 10/10 | Train Acc: 0.604, Val Acc: 0.559, Train Loss: 1.056, Val Loss: 1.154\n",
            "Trial 6: hidden_dim=128, lr=0.00022, batch_size=64\n",
            "Epoch 1/10 | Train Acc: 0.433, Val Acc: 0.501, Train Loss: 1.527, Val Loss: 1.371\n",
            "Epoch 2/10 | Train Acc: 0.524, Val Acc: 0.529, Train Loss: 1.292, Val Loss: 1.262\n",
            "Epoch 3/10 | Train Acc: 0.553, Val Acc: 0.553, Train Loss: 1.213, Val Loss: 1.231\n",
            "Epoch 4/10 | Train Acc: 0.569, Val Acc: 0.569, Train Loss: 1.173, Val Loss: 1.196\n",
            "Epoch 5/10 | Train Acc: 0.580, Val Acc: 0.565, Train Loss: 1.142, Val Loss: 1.183\n",
            "Epoch 6/10 | Train Acc: 0.587, Val Acc: 0.579, Train Loss: 1.117, Val Loss: 1.155\n",
            "Epoch 7/10 | Train Acc: 0.596, Val Acc: 0.581, Train Loss: 1.091, Val Loss: 1.144\n",
            "Epoch 8/10 | Train Acc: 0.605, Val Acc: 0.580, Train Loss: 1.068, Val Loss: 1.131\n",
            "Epoch 9/10 | Train Acc: 0.615, Val Acc: 0.591, Train Loss: 1.045, Val Loss: 1.112\n"
          ]
        },
        {
          "output_type": "stream",
          "name": "stderr",
          "text": [
            "[I 2025-08-26 01:08:33,162] Trial 6 finished with value: 0.5942622950819673 and parameters: {'hidden_dim': 128, 'lr': 0.00021783036356649003, 'batch_size': 64}. Best is trial 0 with value: 0.6110555777688924.\n"
          ]
        },
        {
          "output_type": "stream",
          "name": "stdout",
          "text": [
            "Epoch 10/10 | Train Acc: 0.622, Val Acc: 0.594, Train Loss: 1.024, Val Loss: 1.099\n",
            "Trial 7: hidden_dim=256, lr=0.00389, batch_size=256\n",
            "Epoch 1/10 | Train Acc: 0.441, Val Acc: 0.521, Train Loss: 1.527, Val Loss: 1.320\n",
            "Epoch 2/10 | Train Acc: 0.528, Val Acc: 0.528, Train Loss: 1.273, Val Loss: 1.286\n",
            "Epoch 3/10 | Train Acc: 0.549, Val Acc: 0.551, Train Loss: 1.219, Val Loss: 1.227\n",
            "Epoch 4/10 | Train Acc: 0.558, Val Acc: 0.559, Train Loss: 1.190, Val Loss: 1.207\n",
            "Epoch 5/10 | Train Acc: 0.566, Val Acc: 0.568, Train Loss: 1.169, Val Loss: 1.200\n",
            "Epoch 6/10 | Train Acc: 0.576, Val Acc: 0.562, Train Loss: 1.144, Val Loss: 1.183\n",
            "Epoch 7/10 | Train Acc: 0.582, Val Acc: 0.569, Train Loss: 1.119, Val Loss: 1.176\n",
            "Epoch 8/10 | Train Acc: 0.587, Val Acc: 0.555, Train Loss: 1.106, Val Loss: 1.197\n",
            "Epoch 9/10 | Train Acc: 0.597, Val Acc: 0.581, Train Loss: 1.083, Val Loss: 1.142\n"
          ]
        },
        {
          "output_type": "stream",
          "name": "stderr",
          "text": [
            "[I 2025-08-26 01:12:12,560] Trial 7 finished with value: 0.5738704518192723 and parameters: {'hidden_dim': 256, 'lr': 0.003892585170092507, 'batch_size': 256}. Best is trial 0 with value: 0.6110555777688924.\n"
          ]
        },
        {
          "output_type": "stream",
          "name": "stdout",
          "text": [
            "Epoch 10/10 | Train Acc: 0.601, Val Acc: 0.574, Train Loss: 1.071, Val Loss: 1.155\n",
            "Trial 8: hidden_dim=512, lr=0.00031, batch_size=128\n",
            "Epoch 1/10 | Train Acc: 0.454, Val Acc: 0.519, Train Loss: 1.464, Val Loss: 1.288\n",
            "Epoch 2/10 | Train Acc: 0.547, Val Acc: 0.554, Train Loss: 1.230, Val Loss: 1.213\n",
            "Epoch 3/10 | Train Acc: 0.570, Val Acc: 0.571, Train Loss: 1.167, Val Loss: 1.176\n",
            "Epoch 4/10 | Train Acc: 0.586, Val Acc: 0.576, Train Loss: 1.124, Val Loss: 1.166\n",
            "Epoch 5/10 | Train Acc: 0.600, Val Acc: 0.582, Train Loss: 1.080, Val Loss: 1.135\n",
            "Epoch 6/10 | Train Acc: 0.614, Val Acc: 0.597, Train Loss: 1.043, Val Loss: 1.110\n",
            "Epoch 7/10 | Train Acc: 0.629, Val Acc: 0.593, Train Loss: 1.007, Val Loss: 1.102\n",
            "Epoch 8/10 | Train Acc: 0.642, Val Acc: 0.576, Train Loss: 0.972, Val Loss: 1.144\n",
            "Epoch 9/10 | Train Acc: 0.656, Val Acc: 0.618, Train Loss: 0.936, Val Loss: 1.046\n"
          ]
        },
        {
          "output_type": "stream",
          "name": "stderr",
          "text": [
            "[I 2025-08-26 01:17:26,227] Trial 8 finished with value: 0.6211515393842463 and parameters: {'hidden_dim': 512, 'lr': 0.00030963496104920445, 'batch_size': 128}. Best is trial 8 with value: 0.6211515393842463.\n"
          ]
        },
        {
          "output_type": "stream",
          "name": "stdout",
          "text": [
            "Epoch 10/10 | Train Acc: 0.668, Val Acc: 0.621, Train Loss: 0.900, Val Loss: 1.030\n",
            "Trial 9: hidden_dim=256, lr=0.00099, batch_size=64\n",
            "Epoch 1/10 | Train Acc: 0.478, Val Acc: 0.536, Train Loss: 1.399, Val Loss: 1.241\n",
            "Epoch 2/10 | Train Acc: 0.548, Val Acc: 0.552, Train Loss: 1.222, Val Loss: 1.233\n",
            "Epoch 3/10 | Train Acc: 0.565, Val Acc: 0.567, Train Loss: 1.170, Val Loss: 1.184\n",
            "Epoch 4/10 | Train Acc: 0.582, Val Acc: 0.556, Train Loss: 1.124, Val Loss: 1.208\n",
            "Epoch 5/10 | Train Acc: 0.598, Val Acc: 0.577, Train Loss: 1.082, Val Loss: 1.158\n",
            "Epoch 6/10 | Train Acc: 0.613, Val Acc: 0.590, Train Loss: 1.044, Val Loss: 1.111\n",
            "Epoch 7/10 | Train Acc: 0.624, Val Acc: 0.590, Train Loss: 1.005, Val Loss: 1.103\n",
            "Epoch 8/10 | Train Acc: 0.637, Val Acc: 0.608, Train Loss: 0.972, Val Loss: 1.072\n",
            "Epoch 9/10 | Train Acc: 0.645, Val Acc: 0.605, Train Loss: 0.944, Val Loss: 1.083\n"
          ]
        },
        {
          "output_type": "stream",
          "name": "stderr",
          "text": [
            "[I 2025-08-26 01:21:56,894] Trial 9 finished with value: 0.6029588164734107 and parameters: {'hidden_dim': 256, 'lr': 0.0009864084545522058, 'batch_size': 64}. Best is trial 8 with value: 0.6211515393842463.\n"
          ]
        },
        {
          "output_type": "stream",
          "name": "stdout",
          "text": [
            "Epoch 10/10 | Train Acc: 0.655, Val Acc: 0.603, Train Loss: 0.920, Val Loss: 1.059\n"
          ]
        }
      ],
      "source": [
        "# ======================================\n",
        "# 5. Ejecutar búsqueda Optuna\n",
        "# ======================================\n",
        "study = optuna.create_study(direction=\"maximize\")\n",
        "study.optimize(objective, n_trials=10)  #Cambia n_trials para más intentos\n"
      ]
    },
    {
      "cell_type": "code",
      "execution_count": 6,
      "metadata": {
        "colab": {
          "base_uri": "https://localhost:8080/",
          "height": 565
        },
        "id": "bVi7hLeagBPm",
        "outputId": "96eb9568-3672-498e-cbc2-d5a7167382f9"
      },
      "outputs": [
        {
          "output_type": "stream",
          "name": "stdout",
          "text": [
            "Epoch 1/10 | Train Acc: 0.454, Val Acc: 0.506, Train Loss: 1.460, Val Loss: 1.305\n",
            "Epoch 2/10 | Train Acc: 0.544, Val Acc: 0.548, Train Loss: 1.236, Val Loss: 1.241\n",
            "Epoch 3/10 | Train Acc: 0.569, Val Acc: 0.562, Train Loss: 1.172, Val Loss: 1.192\n",
            "Epoch 4/10 | Train Acc: 0.585, Val Acc: 0.574, Train Loss: 1.124, Val Loss: 1.168\n",
            "Epoch 5/10 | Train Acc: 0.600, Val Acc: 0.550, Train Loss: 1.086, Val Loss: 1.185\n",
            "Epoch 6/10 | Train Acc: 0.612, Val Acc: 0.594, Train Loss: 1.048, Val Loss: 1.111\n",
            "Epoch 7/10 | Train Acc: 0.628, Val Acc: 0.599, Train Loss: 1.010, Val Loss: 1.095\n",
            "Epoch 8/10 | Train Acc: 0.640, Val Acc: 0.612, Train Loss: 0.976, Val Loss: 1.064\n",
            "Epoch 9/10 | Train Acc: 0.652, Val Acc: 0.612, Train Loss: 0.942, Val Loss: 1.057\n",
            "Epoch 10/10 | Train Acc: 0.666, Val Acc: 0.604, Train Loss: 0.906, Val Loss: 1.060\n"
          ]
        },
        {
          "output_type": "display_data",
          "data": {
            "text/plain": [
              "<Figure size 1000x400 with 2 Axes>"
            ],
            "image/png": "[encoded data removed]"
          },
          "metadata": {}
        }
      ],
      "source": [
        "# ======================================\n",
        "# 6. Entrenar con los mejores hiperparámetros y graficar\n",
        "# ======================================\n",
        "best_params = study.best_params\n",
        "train_loader = DataLoader(train_dataset, batch_size=best_params[\"batch_size\"], shuffle=True)\n",
        "val_loader   = DataLoader(val_dataset, batch_size=best_params[\"batch_size\"], shuffle=False)\n",
        "\n",
        "model = SimpleMLP(num_channels=num_channels, num_classes=n_classes, hidden_dim=best_params[\"hidden_dim\"])\n",
        "criterion = nn.CrossEntropyLoss()\n",
        "optimizer = optim.Adam(model.parameters(), lr=best_params[\"lr\"])\n",
        "\n",
        "train_acc, val_acc, train_loss, val_loss, _ = train_model(model, optimizer, criterion, train_loader, val_loader, epochs=10)\n",
        "\n",
        "# Gráficas finales\n",
        "plt.figure(figsize=(10,4))\n",
        "plt.subplot(1,2,1)\n",
        "plt.plot(train_acc, label='Train Acc')\n",
        "plt.plot(val_acc, label='Val Acc')\n",
        "plt.legend()\n",
        "plt.title(\"Accuracy\")\n",
        "\n",
        "plt.subplot(1,2,2)\n",
        "plt.plot(train_loss, label='Train Loss')\n",
        "plt.plot(val_loss, label='Val Loss')\n",
        "plt.legend()\n",
        "plt.title(\"Loss\")\n",
        "\n",
        "plt.show()"
      ]
    }
  ],
  "metadata": {
    "colab": {
      "provenance": []
    },
    "kernelspec": {
      "display_name": "Python 3",
      "name": "python3"
    },
    "language_info": {
      "name": "python"
    }
  },
  "nbformat": 4,
  "nbformat_minor": 0
}